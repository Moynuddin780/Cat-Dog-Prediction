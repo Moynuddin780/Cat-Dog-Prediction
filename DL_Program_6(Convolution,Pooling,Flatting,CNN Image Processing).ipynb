{
 "cells": [
  {
   "cell_type": "code",
   "execution_count": 2,
   "id": "aab62dd8-5280-4d0d-b9f3-c344e2cb7eb5",
   "metadata": {},
   "outputs": [],
   "source": [
    "import tensorflow"
   ]
  },
  {
   "cell_type": "code",
   "execution_count": 4,
   "id": "3421a1dc-4e37-4ff0-a790-c83b5c33cadb",
   "metadata": {},
   "outputs": [],
   "source": [
    "from keras.layers import Dense,Conv2D,MaxPooling2D,Flatten\n",
    "from keras.models import Sequential\n",
    "from tensorflow.keras.preprocessing.image import ImageDataGenerator\n"
   ]
  },
  {
   "cell_type": "code",
   "execution_count": 6,
   "id": "8c431fc5-5417-4ea8-aef0-28b89e186612",
   "metadata": {},
   "outputs": [],
   "source": [
    "cnn = Sequential()\n",
    "cnn.add(Conv2D(32,(3,3),input_shape=(64,64,3),activation='relu'))\n",
    "cnn.add(MaxPooling2D(pool_size=(2,2)))\n",
    "cnn.add(Conv2D(16,(3,3),activation='relu'))\n",
    "cnn.add(MaxPooling2D(pool_size=(2,2)))\n",
    "cnn.add(Flatten())"
   ]
  },
  {
   "cell_type": "code",
   "execution_count": 10,
   "id": "f89444cd-29d6-4a90-8d49-31c216a70a49",
   "metadata": {},
   "outputs": [],
   "source": [
    "cnn.add(Dense(64,activation='relu'))\n",
    "cnn.add(Dense(32,activation='relu'))\n",
    "cnn.add(Dense(16,activation='relu')) \n",
    "cnn.add(Dense(8,activation='relu'))\n",
    "cnn.add(Dense(4,activation='relu'))\n",
    "cnn.add(Dense(1,activation='sigmoid'))"
   ]
  },
  {
   "cell_type": "code",
   "execution_count": 12,
   "id": "94969b53-a215-416b-83fe-d13423dfd9be",
   "metadata": {},
   "outputs": [],
   "source": [
    "cnn.compile(loss='binary_crossentropy', optimizer=\"adam\")"
   ]
  },
  {
   "cell_type": "code",
   "execution_count": 14,
   "id": "6afd61f1-8a38-477b-a6a9-9d7406964daf",
   "metadata": {},
   "outputs": [
    {
     "name": "stdout",
     "output_type": "stream",
     "text": [
      "Found 780 images belonging to 2 classes.\n",
      "Found 200 images belonging to 2 classes.\n",
      "Epoch 1/5\n",
      "20/20 [==============================] - 4s 218ms/step - loss: 0.6930 - val_loss: 0.6932\n",
      "Epoch 2/5\n",
      "20/20 [==============================] - 4s 207ms/step - loss: 0.6932 - val_loss: 0.6932\n",
      "Epoch 3/5\n",
      "20/20 [==============================] - 4s 201ms/step - loss: 0.6929 - val_loss: 0.6932\n",
      "Epoch 4/5\n",
      "20/20 [==============================] - 6s 283ms/step - loss: 0.6929 - val_loss: 0.6932\n",
      "Epoch 5/5\n",
      "20/20 [==============================] - 6s 307ms/step - loss: 0.6930 - val_loss: 0.6932\n"
     ]
    },
    {
     "data": {
      "text/plain": [
       "<keras.src.callbacks.History at 0x20a07426d40>"
      ]
     },
     "execution_count": 14,
     "metadata": {},
     "output_type": "execute_result"
    }
   ],
   "source": [
    "train_datagen = ImageDataGenerator(\n",
    "        rescale=1./255,\n",
    "        shear_range=0.2,\n",
    "        zoom_range=0.2,\n",
    "        horizontal_flip=True)\n",
    "\n",
    "test_datagen = ImageDataGenerator(rescale=1./255)\n",
    "\n",
    "train_generator = train_datagen.flow_from_directory(\n",
    "        r\"C:\\Users\\Moynuddin\\OneDrive\\Desktop\\Jupyter Projects\\Image for CNN DL\\Train_Image\",\n",
    "        target_size=(64,64),\n",
    "        batch_size=32,\n",
    "        class_mode='binary')\n",
    "\n",
    "test_generator = test_datagen.flow_from_directory(\n",
    "       r\"C:\\Users\\Moynuddin\\OneDrive\\Desktop\\Jupyter Projects\\Image for CNN DL\\Test_Image\",\n",
    "        target_size=(64,64),\n",
    "        batch_size=32,\n",
    "        class_mode='binary')\n",
    "\n",
    "cnn.fit(\n",
    "        train_generator,\n",
    "        steps_per_epoch=20,\n",
    "        epochs=5,\n",
    "        validation_data=test_generator)"
   ]
  },
  {
   "cell_type": "code",
   "execution_count": 16,
   "id": "dc969899-ef21-4282-a706-83221e081824",
   "metadata": {},
   "outputs": [],
   "source": [
    "from keras.models import load_model\n",
    "from keras.preprocessing import image\n",
    "import numpy as np\n"
   ]
  },
  {
   "cell_type": "code",
   "execution_count": 36,
   "id": "d2cbe116-8778-4b4a-a461-08a0d4ee472c",
   "metadata": {},
   "outputs": [],
   "source": [
    "img= image.load_img(r\"C:\\Users\\Moynuddin\\OneDrive\\Desktop\\Jupyter Projects\\Image for CNN DL\\cat.jpg\",target_size=(64,64))"
   ]
  },
  {
   "cell_type": "code",
   "execution_count": 37,
   "id": "8e11be2b-ec2f-4ba9-af99-d0e6ae78743f",
   "metadata": {},
   "outputs": [],
   "source": [
    "img_array=image.img_to_array(img)"
   ]
  },
  {
   "cell_type": "code",
   "execution_count": 39,
   "id": "6329e342-82f7-4a39-9f86-34e7212e1f23",
   "metadata": {},
   "outputs": [
    {
     "name": "stdout",
     "output_type": "stream",
     "text": [
      "Shape after loading: (64, 64, 3)\n"
     ]
    }
   ],
   "source": [
    "print(\"Shape after loading:\", img_array.shape)"
   ]
  },
  {
   "cell_type": "code",
   "execution_count": 40,
   "id": "0318d364-5486-428d-a868-f0c10f7e8c2c",
   "metadata": {},
   "outputs": [],
   "source": [
    "img2=img_array / 255.0"
   ]
  },
  {
   "cell_type": "code",
   "execution_count": 41,
   "id": "3a9c8a94-c269-4065-bc34-b5f2c5146f94",
   "metadata": {},
   "outputs": [
    {
     "name": "stdout",
     "output_type": "stream",
     "text": [
      "(64, 64, 3)\n"
     ]
    }
   ],
   "source": [
    "print(img2.shape)"
   ]
  },
  {
   "cell_type": "code",
   "execution_count": 43,
   "id": "6ea8b9f3-449c-4010-8f34-8852920a8d0d",
   "metadata": {},
   "outputs": [
    {
     "name": "stdout",
     "output_type": "stream",
     "text": [
      "(64, 64, 3)\n"
     ]
    }
   ],
   "source": [
    "img_dimention =np.expand_dims(img2,axis=0)\n",
    "print(img2.shape)"
   ]
  },
  {
   "cell_type": "code",
   "execution_count": 44,
   "id": "ae5d565b-b01c-473e-ae60-d8cef1b5289b",
   "metadata": {},
   "outputs": [
    {
     "name": "stdout",
     "output_type": "stream",
     "text": [
      "1/1 [==============================] - 1s 730ms/step\n"
     ]
    }
   ],
   "source": [
    "result=cnn.predict(img_dimention)"
   ]
  },
  {
   "cell_type": "code",
   "execution_count": 45,
   "id": "949770eb-4003-45a7-b72a-bcc1b1f24c5c",
   "metadata": {},
   "outputs": [
    {
     "name": "stdout",
     "output_type": "stream",
     "text": [
      "Cat\n"
     ]
    }
   ],
   "source": [
    "if result[0][0]<0.5:\n",
    "    print('Dog')\n",
    "else:\n",
    "    print(\"Cat\")"
   ]
  }
 ],
 "metadata": {
  "kernelspec": {
   "display_name": "Python 3 (ipykernel)",
   "language": "python",
   "name": "python3"
  },
  "language_info": {
   "codemirror_mode": {
    "name": "ipython",
    "version": 3
   },
   "file_extension": ".py",
   "mimetype": "text/x-python",
   "name": "python",
   "nbconvert_exporter": "python",
   "pygments_lexer": "ipython3",
   "version": "3.10.11"
  }
 },
 "nbformat": 4,
 "nbformat_minor": 5
}
